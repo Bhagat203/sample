{
 "cells": [
  {
   "cell_type": "code",
   "execution_count": 72,
   "id": "4252a83d",
   "metadata": {},
   "outputs": [],
   "source": [
    "#Data Structures\n",
    "import pandas as pd\n",
    "import numpy as np\n",
    "import re\n",
    "import os\n",
    "\n",
    "\n",
    "\n",
    "#Sklearn\n",
    "from sklearn.impute import SimpleImputer\n",
    "from sklearn.utils import resample\n",
    "from xgboost import XGBClassifier\n",
    "from sklearn.preprocessing import StandardScaler\n",
    "from sklearn.model_selection import train_test_split\n",
    "from sklearn.ensemble import GradientBoostingClassifier\n",
    "from sklearn.ensemble import RandomForestClassifier\n",
    "from sklearn.decomposition import PCA\n",
    "from sklearn.manifold import TSNE\n",
    "from sklearn.linear_model import LogisticRegression\n",
    "from sklearn.pipeline import Pipeline\n",
    "from sklearn.model_selection import GridSearchCV\n",
    "from sklearn.metrics import confusion_matrix, precision_score, recall_score,f1_score,accuracy_score,roc_auc_score,roc_curve\n",
    "from sklearn.tree import DecisionTreeClassifier\n",
    "from sklearn.metrics import accuracy_score\n",
    "from sklearn.model_selection import RandomizedSearchCV\n",
    "from sklearn.metrics import precision_score\n",
    "from sklearn.metrics import recall_score\n",
    "from sklearn.metrics import make_scorer\n",
    "\n",
    "#Plotting\n",
    "import matplotlib.pyplot as plt\n",
    "from mpl_toolkits.mplot3d import Axes3D\n",
    "import seaborn as sns\n",
    "\n",
    "#Others\n",
    "import warnings\n",
    "warnings.filterwarnings('ignore')\n",
    "\n",
    "%matplotlib inline"
   ]
  },
  {
   "cell_type": "code",
   "execution_count": 73,
   "id": "d36017fa",
   "metadata": {},
   "outputs": [
    {
     "name": "stdout",
     "output_type": "stream",
     "text": [
      "(30000, 171)\n",
      "(30000, 2)\n",
      "(36, 2)\n"
     ]
    }
   ],
   "source": [
    "new_data = pd.read_csv(\"./Downloads/telecom-churn-case-study-hackathon-c57/train.csv\")\n",
    "unseen = pd.read_csv(\"./Downloads/telecom-churn-case-study-hackathon-c57/test.csv\")\n",
    "sample = pd.read_csv(\"./Downloads/telecom-churn-case-study-hackathon-c57/sample.csv\")\n",
    "data_dict = pd.read_csv(\"./Downloads/telecom-churn-case-study-hackathon-c57/data_dictionary.csv\")\n",
    "\n",
    "print(unseen.shape)\n",
    "print(sample.shape)\n",
    "print(data_dict.shape)"
   ]
  },
  {
   "cell_type": "code",
   "execution_count": 74,
   "id": "aea25773",
   "metadata": {},
   "outputs": [
    {
     "data": {
      "text/plain": [
       "True"
      ]
     },
     "execution_count": 74,
     "metadata": {},
     "output_type": "execute_result"
    }
   ],
   "source": [
    "removedColumn = []\n",
    "new_data['loc_og_t2o_mou'].value_counts()\n",
    "new_data['loc_og_t2o_mou'].value_counts().iloc[0]>new_data.shape[0]*0.8\n"
   ]
  },
  {
   "cell_type": "code",
   "execution_count": 75,
   "id": "b68087c7",
   "metadata": {},
   "outputs": [
    {
     "name": "stdout",
     "output_type": "stream",
     "text": [
      "circle_id\n",
      "loc_og_t2o_mou\n",
      "std_og_t2o_mou\n",
      "loc_ic_t2o_mou\n",
      "last_date_of_month_6\n",
      "last_date_of_month_7\n",
      "last_date_of_month_8\n",
      "std_og_t2c_mou_6\n",
      "std_og_t2c_mou_7\n",
      "og_others_7\n",
      "std_ic_t2o_mou_6\n",
      "std_ic_t2o_mou_7\n",
      "sachet_3g_6\n",
      "sachet_3g_7\n",
      "sachet_3g_8\n"
     ]
    }
   ],
   "source": [
    "for i in new_data.columns:\n",
    "    if((new_data[i].isnull().sum())>=(new_data.shape[0]*0.4)):\n",
    "        if(i!='churn_probability'):\n",
    "            new_data.drop(columns=i,axis=1,inplace=True)\n",
    "            removedColumn.append(i)\n",
    "    elif ((new_data[i].value_counts().iloc[0])>(new_data.shape[0])*0.95):\n",
    "        if(i!='churn_probability'):\n",
    "            print(i)\n",
    "            new_data.drop(columns=i,axis=1,inplace=True)\n",
    "            removedColumn.append(i)"
   ]
  },
  {
   "cell_type": "code",
   "execution_count": 76,
   "id": "2c9e487f-e3a3-4a56-9009-8de52183e61e",
   "metadata": {
    "tags": []
   },
   "outputs": [
    {
     "data": {
      "text/plain": [
       "(69999, 127)"
      ]
     },
     "execution_count": 76,
     "metadata": {},
     "output_type": "execute_result"
    }
   ],
   "source": [
    "new_data.shape"
   ]
  },
  {
   "cell_type": "code",
   "execution_count": 77,
   "id": "ae945270",
   "metadata": {},
   "outputs": [],
   "source": [
    "checkNull = lambda : new_data.isnull().sum().sort_values(ascending = False)"
   ]
  },
  {
   "cell_type": "code",
   "execution_count": 78,
   "id": "9096c697",
   "metadata": {},
   "outputs": [
    {
     "data": {
      "text/plain": [
       "loc_ic_t2f_mou_8     3703\n",
       "loc_og_t2f_mou_8     3703\n",
       "loc_og_mou_8         3703\n",
       "std_og_t2t_mou_8     3703\n",
       "std_og_t2m_mou_8     3703\n",
       "                     ... \n",
       "total_rech_amt_8        0\n",
       "max_rech_amt_6          0\n",
       "max_rech_amt_7          0\n",
       "max_rech_amt_8          0\n",
       "churn_probability       0\n",
       "Length: 127, dtype: int64"
      ]
     },
     "execution_count": 78,
     "metadata": {},
     "output_type": "execute_result"
    }
   ],
   "source": [
    "checkNull()"
   ]
  },
  {
   "cell_type": "code",
   "execution_count": 79,
   "id": "fea5f3a5",
   "metadata": {},
   "outputs": [],
   "source": [
    "# new_data = new_data[~(new_data['loc_ic_t2t_mou_8'].isnull())]"
   ]
  },
  {
   "cell_type": "code",
   "execution_count": 80,
   "id": "682109b5",
   "metadata": {},
   "outputs": [
    {
     "data": {
      "text/plain": [
       "loc_ic_t2f_mou_8     3703\n",
       "loc_og_t2f_mou_8     3703\n",
       "loc_og_mou_8         3703\n",
       "std_og_t2t_mou_8     3703\n",
       "std_og_t2m_mou_8     3703\n",
       "                     ... \n",
       "total_rech_amt_8        0\n",
       "max_rech_amt_6          0\n",
       "max_rech_amt_7          0\n",
       "max_rech_amt_8          0\n",
       "churn_probability       0\n",
       "Length: 127, dtype: int64"
      ]
     },
     "execution_count": 80,
     "metadata": {},
     "output_type": "execute_result"
    }
   ],
   "source": [
    "checkNull()"
   ]
  },
  {
   "cell_type": "code",
   "execution_count": 81,
   "id": "01066d28",
   "metadata": {},
   "outputs": [],
   "source": [
    "# new_data = new_data[~(new_data['loc_ic_t2f_mou_6'].isnull())]"
   ]
  },
  {
   "cell_type": "code",
   "execution_count": 82,
   "id": "432e7dbe",
   "metadata": {},
   "outputs": [
    {
     "data": {
      "text/plain": [
       "loc_ic_t2f_mou_8     3703\n",
       "loc_og_t2f_mou_8     3703\n",
       "loc_og_mou_8         3703\n",
       "std_og_t2t_mou_8     3703\n",
       "std_og_t2m_mou_8     3703\n",
       "                     ... \n",
       "total_rech_amt_8        0\n",
       "max_rech_amt_6          0\n",
       "max_rech_amt_7          0\n",
       "max_rech_amt_8          0\n",
       "churn_probability       0\n",
       "Length: 127, dtype: int64"
      ]
     },
     "execution_count": 82,
     "metadata": {},
     "output_type": "execute_result"
    }
   ],
   "source": [
    "checkNull()"
   ]
  },
  {
   "cell_type": "code",
   "execution_count": 83,
   "id": "277f88e5",
   "metadata": {},
   "outputs": [],
   "source": [
    "# new_data = new_data[~(new_data['date_of_last_rech_8'].isnull())]"
   ]
  },
  {
   "cell_type": "code",
   "execution_count": 84,
   "id": "4310c988",
   "metadata": {},
   "outputs": [
    {
     "data": {
      "text/plain": [
       "loc_ic_t2f_mou_8     3703\n",
       "loc_og_t2f_mou_8     3703\n",
       "loc_og_mou_8         3703\n",
       "std_og_t2t_mou_8     3703\n",
       "std_og_t2m_mou_8     3703\n",
       "                     ... \n",
       "total_rech_amt_8        0\n",
       "max_rech_amt_6          0\n",
       "max_rech_amt_7          0\n",
       "max_rech_amt_8          0\n",
       "churn_probability       0\n",
       "Length: 127, dtype: int64"
      ]
     },
     "execution_count": 84,
     "metadata": {},
     "output_type": "execute_result"
    }
   ],
   "source": [
    "checkNull()"
   ]
  },
  {
   "cell_type": "code",
   "execution_count": 85,
   "id": "13790483",
   "metadata": {},
   "outputs": [],
   "source": [
    "# new_data = new_data[~(new_data['std_ic_t2m_mou_7'].isnull())]"
   ]
  },
  {
   "cell_type": "code",
   "execution_count": 86,
   "id": "6c57ae97",
   "metadata": {},
   "outputs": [
    {
     "data": {
      "text/plain": [
       "loc_ic_t2f_mou_8     3703\n",
       "loc_og_t2f_mou_8     3703\n",
       "loc_og_mou_8         3703\n",
       "std_og_t2t_mou_8     3703\n",
       "std_og_t2m_mou_8     3703\n",
       "                     ... \n",
       "total_rech_amt_8        0\n",
       "max_rech_amt_6          0\n",
       "max_rech_amt_7          0\n",
       "max_rech_amt_8          0\n",
       "churn_probability       0\n",
       "Length: 127, dtype: int64"
      ]
     },
     "execution_count": 86,
     "metadata": {},
     "output_type": "execute_result"
    }
   ],
   "source": [
    "checkNull()"
   ]
  },
  {
   "cell_type": "code",
   "execution_count": 87,
   "id": "7b2e2eec",
   "metadata": {},
   "outputs": [],
   "source": [
    "# new_data = new_data[~(new_data['date_of_last_rech_6'].isnull())]"
   ]
  },
  {
   "cell_type": "code",
   "execution_count": 88,
   "id": "948b4699",
   "metadata": {},
   "outputs": [],
   "source": [
    "for i,j in zip(new_data.columns,new_data.dtypes):\n",
    "    if(j=='object'):\n",
    "        new_data.drop(columns=i,axis=1,inplace=True)\n",
    "        removedColumn.append(i)"
   ]
  },
  {
   "cell_type": "code",
   "execution_count": 89,
   "id": "caddf667",
   "metadata": {},
   "outputs": [],
   "source": [
    "# new_data = new_data[~(new_data['date_of_last_rech_7'].isnull())]\n",
    "imputer = SimpleImputer(missing_values=np.NaN, strategy='mean')\n",
    "# imputing Missing NaN/Null values with mean of the column cont..\n",
    "\n",
    "missing_data_percent = new_data.isnull().any()\n",
    "impute_cols = missing_data_percent[missing_data_percent.gt(0)].index\n",
    "impute_cols\n",
    "new_data[impute_cols] = imputer.fit_transform(new_data[impute_cols])\n",
    "# new_data['id']"
   ]
  },
  {
   "cell_type": "code",
   "execution_count": 90,
   "id": "a3528677",
   "metadata": {},
   "outputs": [
    {
     "data": {
      "text/plain": [
       "id                   0\n",
       "std_ic_mou_7         0\n",
       "ic_others_8          0\n",
       "ic_others_7          0\n",
       "ic_others_6          0\n",
       "                    ..\n",
       "std_og_t2m_mou_8     0\n",
       "std_og_t2m_mou_7     0\n",
       "std_og_t2m_mou_6     0\n",
       "std_og_t2t_mou_8     0\n",
       "churn_probability    0\n",
       "Length: 124, dtype: int64"
      ]
     },
     "execution_count": 90,
     "metadata": {},
     "output_type": "execute_result"
    }
   ],
   "source": [
    "checkNull()"
   ]
  },
  {
   "cell_type": "code",
   "execution_count": 91,
   "id": "a6ba0b54",
   "metadata": {},
   "outputs": [],
   "source": [
    "for i,j in zip(new_data.columns,new_data.dtypes):\n",
    "    if(j=='object'):\n",
    "        new_data.drop(columns=i,axis=1,inplace=True)\n",
    "        removedColumn.append(i)"
   ]
  },
  {
   "cell_type": "code",
   "execution_count": 92,
   "id": "cc9755b9",
   "metadata": {},
   "outputs": [],
   "source": [
    "new_data.drop(columns='id',axis=1,inplace=True)\n",
    "removedColumn.append(i)"
   ]
  },
  {
   "cell_type": "code",
   "execution_count": 93,
   "id": "516c2967",
   "metadata": {},
   "outputs": [],
   "source": [
    "X= new_data.drop(columns='churn_probability')\n",
    "y = new_data['churn_probability']"
   ]
  },
  {
   "cell_type": "code",
   "execution_count": 94,
   "id": "c0b4f13a",
   "metadata": {},
   "outputs": [
    {
     "data": {
      "text/plain": [
       "((55999, 122), (14000, 122), (55999,), (14000,))"
      ]
     },
     "execution_count": 94,
     "metadata": {},
     "output_type": "execute_result"
    }
   ],
   "source": [
    "X_train, X_test, y_train, y_test = train_test_split(X, y, test_size=0.2)\n",
    "\n",
    "X_train.shape, X_test.shape, y_train.shape, y_test.shape"
   ]
  },
  {
   "cell_type": "code",
   "execution_count": 95,
   "id": "7fa42e45",
   "metadata": {},
   "outputs": [],
   "source": [
    "scalar = StandardScaler()\n",
    "new_data_scaled = scalar.fit_transform(X_train)"
   ]
  },
  {
   "cell_type": "code",
   "execution_count": 25,
   "id": "add1b883",
   "metadata": {},
   "outputs": [
    {
     "name": "stdout",
     "output_type": "stream",
     "text": [
      "Requirement already satisfied: xgboost in c:\\users\\rajesh\\anaconda3\\lib\\site-packages (2.0.3)\n",
      "Requirement already satisfied: numpy in c:\\users\\rajesh\\anaconda3\\lib\\site-packages (from xgboost) (1.24.3)\n",
      "Requirement already satisfied: scipy in c:\\users\\rajesh\\anaconda3\\lib\\site-packages (from xgboost) (1.11.1)\n"
     ]
    }
   ],
   "source": [
    "!pip install xgboost"
   ]
  },
  {
   "cell_type": "code",
   "execution_count": 26,
   "id": "80bb93c1-c3c2-4ca5-b51f-76f1886b477b",
   "metadata": {
    "tags": []
   },
   "outputs": [],
   "source": [
    "def checkThreshold(xb):\n",
    "    thresholds = []\n",
    "    roc_auc_scores= []\n",
    "    precision_scores= []\n",
    "    recall_scores=[]\n",
    "    f1_scores = []\n",
    "    accuracy_scores = []\n",
    "    for i in np.arange(0,10):\n",
    "        y_pred_threshold = np.array((xb.predict_proba(scalar.transform(X_test))[:,1]>(i/10)).astype(int))\n",
    "        thresholds.append(i/10)\n",
    "        accuracy_scores.append(accuracy_score(y_test,y_pred_threshold))\n",
    "        f1_scores.append(f1_score(y_test,y_pred_threshold))\n",
    "        roc_auc_scores.append(roc_auc_score(y_test,y_pred_threshold))\n",
    "        precision_scores.append(precision_score(y_test,y_pred_threshold))\n",
    "        recall_scores.append(recall_score(y_test,y_pred_threshold))\n",
    "    return pd.DataFrame({'thresholds':thresholds,'accuracy_scores':accuracy_scores,'f1_scores':f1_scores,'roc_auc_scores':roc_auc_scores,'precision_scores':precision_scores,'recall_scores':recall_scores})"
   ]
  },
  {
   "cell_type": "code",
   "execution_count": 27,
   "id": "050d060e",
   "metadata": {},
   "outputs": [],
   "source": [
    "params = {\n",
    "        'min_child_weight': [7, 8],#less\n",
    "        'gamma': [3.6,3.5],#hight\n",
    "        'subsample': [0.7, 0.6],#less\n",
    "        'colsample_bytree': [0.5,0.4],#high\n",
    "        'max_depth': [12,11],#high\n",
    "        'learning_rate':[0.08,0.09],#less\n",
    "        'n_estimators':[95,100],#low\n",
    "        'scale_pos_weight':[1.2,1.3],#high\n",
    "        'reg_lambda':[10,9]#less\n",
    "}\n"
   ]
  },
  {
   "cell_type": "code",
   "execution_count": 28,
   "id": "26c211aa",
   "metadata": {},
   "outputs": [],
   "source": [
    "rand_search  = RandomizedSearchCV(estimator=XGBClassifier(random_state= 42),param_distributions=params,scoring='roc_auc',cv=4,verbose=1,n_jobs=-1)"
   ]
  },
  {
   "cell_type": "code",
   "execution_count": 29,
   "id": "5bba9e11",
   "metadata": {
    "scrolled": true
   },
   "outputs": [
    {
     "name": "stdout",
     "output_type": "stream",
     "text": [
      "Fitting 4 folds for each of 10 candidates, totalling 40 fits\n"
     ]
    },
    {
     "data": {
      "text/html": [
       "<style>#sk-container-id-1 {color: black;}#sk-container-id-1 pre{padding: 0;}#sk-container-id-1 div.sk-toggleable {background-color: white;}#sk-container-id-1 label.sk-toggleable__label {cursor: pointer;display: block;width: 100%;margin-bottom: 0;padding: 0.3em;box-sizing: border-box;text-align: center;}#sk-container-id-1 label.sk-toggleable__label-arrow:before {content: \"▸\";float: left;margin-right: 0.25em;color: #696969;}#sk-container-id-1 label.sk-toggleable__label-arrow:hover:before {color: black;}#sk-container-id-1 div.sk-estimator:hover label.sk-toggleable__label-arrow:before {color: black;}#sk-container-id-1 div.sk-toggleable__content {max-height: 0;max-width: 0;overflow: hidden;text-align: left;background-color: #f0f8ff;}#sk-container-id-1 div.sk-toggleable__content pre {margin: 0.2em;color: black;border-radius: 0.25em;background-color: #f0f8ff;}#sk-container-id-1 input.sk-toggleable__control:checked~div.sk-toggleable__content {max-height: 200px;max-width: 100%;overflow: auto;}#sk-container-id-1 input.sk-toggleable__control:checked~label.sk-toggleable__label-arrow:before {content: \"▾\";}#sk-container-id-1 div.sk-estimator input.sk-toggleable__control:checked~label.sk-toggleable__label {background-color: #d4ebff;}#sk-container-id-1 div.sk-label input.sk-toggleable__control:checked~label.sk-toggleable__label {background-color: #d4ebff;}#sk-container-id-1 input.sk-hidden--visually {border: 0;clip: rect(1px 1px 1px 1px);clip: rect(1px, 1px, 1px, 1px);height: 1px;margin: -1px;overflow: hidden;padding: 0;position: absolute;width: 1px;}#sk-container-id-1 div.sk-estimator {font-family: monospace;background-color: #f0f8ff;border: 1px dotted black;border-radius: 0.25em;box-sizing: border-box;margin-bottom: 0.5em;}#sk-container-id-1 div.sk-estimator:hover {background-color: #d4ebff;}#sk-container-id-1 div.sk-parallel-item::after {content: \"\";width: 100%;border-bottom: 1px solid gray;flex-grow: 1;}#sk-container-id-1 div.sk-label:hover label.sk-toggleable__label {background-color: #d4ebff;}#sk-container-id-1 div.sk-serial::before {content: \"\";position: absolute;border-left: 1px solid gray;box-sizing: border-box;top: 0;bottom: 0;left: 50%;z-index: 0;}#sk-container-id-1 div.sk-serial {display: flex;flex-direction: column;align-items: center;background-color: white;padding-right: 0.2em;padding-left: 0.2em;position: relative;}#sk-container-id-1 div.sk-item {position: relative;z-index: 1;}#sk-container-id-1 div.sk-parallel {display: flex;align-items: stretch;justify-content: center;background-color: white;position: relative;}#sk-container-id-1 div.sk-item::before, #sk-container-id-1 div.sk-parallel-item::before {content: \"\";position: absolute;border-left: 1px solid gray;box-sizing: border-box;top: 0;bottom: 0;left: 50%;z-index: -1;}#sk-container-id-1 div.sk-parallel-item {display: flex;flex-direction: column;z-index: 1;position: relative;background-color: white;}#sk-container-id-1 div.sk-parallel-item:first-child::after {align-self: flex-end;width: 50%;}#sk-container-id-1 div.sk-parallel-item:last-child::after {align-self: flex-start;width: 50%;}#sk-container-id-1 div.sk-parallel-item:only-child::after {width: 0;}#sk-container-id-1 div.sk-dashed-wrapped {border: 1px dashed gray;margin: 0 0.4em 0.5em 0.4em;box-sizing: border-box;padding-bottom: 0.4em;background-color: white;}#sk-container-id-1 div.sk-label label {font-family: monospace;font-weight: bold;display: inline-block;line-height: 1.2em;}#sk-container-id-1 div.sk-label-container {text-align: center;}#sk-container-id-1 div.sk-container {/* jupyter's `normalize.less` sets `[hidden] { display: none; }` but bootstrap.min.css set `[hidden] { display: none !important; }` so we also need the `!important` here to be able to override the default hidden behavior on the sphinx rendered scikit-learn.org. See: https://github.com/scikit-learn/scikit-learn/issues/21755 */display: inline-block !important;position: relative;}#sk-container-id-1 div.sk-text-repr-fallback {display: none;}</style><div id=\"sk-container-id-1\" class=\"sk-top-container\"><div class=\"sk-text-repr-fallback\"><pre>RandomizedSearchCV(cv=4,\n",
       "                   estimator=XGBClassifier(base_score=None, booster=None,\n",
       "                                           callbacks=None,\n",
       "                                           colsample_bylevel=None,\n",
       "                                           colsample_bynode=None,\n",
       "                                           colsample_bytree=None, device=None,\n",
       "                                           early_stopping_rounds=None,\n",
       "                                           enable_categorical=False,\n",
       "                                           eval_metric=None, feature_types=None,\n",
       "                                           gamma=None, grow_policy=None,\n",
       "                                           importance_type=None,\n",
       "                                           interaction_constraints=None,\n",
       "                                           learning_rate...\n",
       "                                           multi_strategy=None,\n",
       "                                           n_estimators=None, n_jobs=None,\n",
       "                                           num_parallel_tree=None,\n",
       "                                           random_state=42, ...),\n",
       "                   n_jobs=-1,\n",
       "                   param_distributions={&#x27;colsample_bytree&#x27;: [0.5, 0.4],\n",
       "                                        &#x27;gamma&#x27;: [3.6, 3.5],\n",
       "                                        &#x27;learning_rate&#x27;: [0.08, 0.09],\n",
       "                                        &#x27;max_depth&#x27;: [12, 11],\n",
       "                                        &#x27;min_child_weight&#x27;: [7, 8],\n",
       "                                        &#x27;n_estimators&#x27;: [95, 100],\n",
       "                                        &#x27;reg_lambda&#x27;: [10, 9],\n",
       "                                        &#x27;scale_pos_weight&#x27;: [1.2, 1.3],\n",
       "                                        &#x27;subsample&#x27;: [0.7, 0.6]},\n",
       "                   scoring=&#x27;roc_auc&#x27;, verbose=1)</pre><b>In a Jupyter environment, please rerun this cell to show the HTML representation or trust the notebook. <br />On GitHub, the HTML representation is unable to render, please try loading this page with nbviewer.org.</b></div><div class=\"sk-container\" hidden><div class=\"sk-item sk-dashed-wrapped\"><div class=\"sk-label-container\"><div class=\"sk-label sk-toggleable\"><input class=\"sk-toggleable__control sk-hidden--visually\" id=\"sk-estimator-id-1\" type=\"checkbox\" ><label for=\"sk-estimator-id-1\" class=\"sk-toggleable__label sk-toggleable__label-arrow\">RandomizedSearchCV</label><div class=\"sk-toggleable__content\"><pre>RandomizedSearchCV(cv=4,\n",
       "                   estimator=XGBClassifier(base_score=None, booster=None,\n",
       "                                           callbacks=None,\n",
       "                                           colsample_bylevel=None,\n",
       "                                           colsample_bynode=None,\n",
       "                                           colsample_bytree=None, device=None,\n",
       "                                           early_stopping_rounds=None,\n",
       "                                           enable_categorical=False,\n",
       "                                           eval_metric=None, feature_types=None,\n",
       "                                           gamma=None, grow_policy=None,\n",
       "                                           importance_type=None,\n",
       "                                           interaction_constraints=None,\n",
       "                                           learning_rate...\n",
       "                                           multi_strategy=None,\n",
       "                                           n_estimators=None, n_jobs=None,\n",
       "                                           num_parallel_tree=None,\n",
       "                                           random_state=42, ...),\n",
       "                   n_jobs=-1,\n",
       "                   param_distributions={&#x27;colsample_bytree&#x27;: [0.5, 0.4],\n",
       "                                        &#x27;gamma&#x27;: [3.6, 3.5],\n",
       "                                        &#x27;learning_rate&#x27;: [0.08, 0.09],\n",
       "                                        &#x27;max_depth&#x27;: [12, 11],\n",
       "                                        &#x27;min_child_weight&#x27;: [7, 8],\n",
       "                                        &#x27;n_estimators&#x27;: [95, 100],\n",
       "                                        &#x27;reg_lambda&#x27;: [10, 9],\n",
       "                                        &#x27;scale_pos_weight&#x27;: [1.2, 1.3],\n",
       "                                        &#x27;subsample&#x27;: [0.7, 0.6]},\n",
       "                   scoring=&#x27;roc_auc&#x27;, verbose=1)</pre></div></div></div><div class=\"sk-parallel\"><div class=\"sk-parallel-item\"><div class=\"sk-item\"><div class=\"sk-label-container\"><div class=\"sk-label sk-toggleable\"><input class=\"sk-toggleable__control sk-hidden--visually\" id=\"sk-estimator-id-2\" type=\"checkbox\" ><label for=\"sk-estimator-id-2\" class=\"sk-toggleable__label sk-toggleable__label-arrow\">estimator: XGBClassifier</label><div class=\"sk-toggleable__content\"><pre>XGBClassifier(base_score=None, booster=None, callbacks=None,\n",
       "              colsample_bylevel=None, colsample_bynode=None,\n",
       "              colsample_bytree=None, device=None, early_stopping_rounds=None,\n",
       "              enable_categorical=False, eval_metric=None, feature_types=None,\n",
       "              gamma=None, grow_policy=None, importance_type=None,\n",
       "              interaction_constraints=None, learning_rate=None, max_bin=None,\n",
       "              max_cat_threshold=None, max_cat_to_onehot=None,\n",
       "              max_delta_step=None, max_depth=None, max_leaves=None,\n",
       "              min_child_weight=None, missing=nan, monotone_constraints=None,\n",
       "              multi_strategy=None, n_estimators=None, n_jobs=None,\n",
       "              num_parallel_tree=None, random_state=42, ...)</pre></div></div></div><div class=\"sk-serial\"><div class=\"sk-item\"><div class=\"sk-estimator sk-toggleable\"><input class=\"sk-toggleable__control sk-hidden--visually\" id=\"sk-estimator-id-3\" type=\"checkbox\" ><label for=\"sk-estimator-id-3\" class=\"sk-toggleable__label sk-toggleable__label-arrow\">XGBClassifier</label><div class=\"sk-toggleable__content\"><pre>XGBClassifier(base_score=None, booster=None, callbacks=None,\n",
       "              colsample_bylevel=None, colsample_bynode=None,\n",
       "              colsample_bytree=None, device=None, early_stopping_rounds=None,\n",
       "              enable_categorical=False, eval_metric=None, feature_types=None,\n",
       "              gamma=None, grow_policy=None, importance_type=None,\n",
       "              interaction_constraints=None, learning_rate=None, max_bin=None,\n",
       "              max_cat_threshold=None, max_cat_to_onehot=None,\n",
       "              max_delta_step=None, max_depth=None, max_leaves=None,\n",
       "              min_child_weight=None, missing=nan, monotone_constraints=None,\n",
       "              multi_strategy=None, n_estimators=None, n_jobs=None,\n",
       "              num_parallel_tree=None, random_state=42, ...)</pre></div></div></div></div></div></div></div></div></div></div>"
      ],
      "text/plain": [
       "RandomizedSearchCV(cv=4,\n",
       "                   estimator=XGBClassifier(base_score=None, booster=None,\n",
       "                                           callbacks=None,\n",
       "                                           colsample_bylevel=None,\n",
       "                                           colsample_bynode=None,\n",
       "                                           colsample_bytree=None, device=None,\n",
       "                                           early_stopping_rounds=None,\n",
       "                                           enable_categorical=False,\n",
       "                                           eval_metric=None, feature_types=None,\n",
       "                                           gamma=None, grow_policy=None,\n",
       "                                           importance_type=None,\n",
       "                                           interaction_constraints=None,\n",
       "                                           learning_rate...\n",
       "                                           multi_strategy=None,\n",
       "                                           n_estimators=None, n_jobs=None,\n",
       "                                           num_parallel_tree=None,\n",
       "                                           random_state=42, ...),\n",
       "                   n_jobs=-1,\n",
       "                   param_distributions={'colsample_bytree': [0.5, 0.4],\n",
       "                                        'gamma': [3.6, 3.5],\n",
       "                                        'learning_rate': [0.08, 0.09],\n",
       "                                        'max_depth': [12, 11],\n",
       "                                        'min_child_weight': [7, 8],\n",
       "                                        'n_estimators': [95, 100],\n",
       "                                        'reg_lambda': [10, 9],\n",
       "                                        'scale_pos_weight': [1.2, 1.3],\n",
       "                                        'subsample': [0.7, 0.6]},\n",
       "                   scoring='roc_auc', verbose=1)"
      ]
     },
     "execution_count": 29,
     "metadata": {},
     "output_type": "execute_result"
    }
   ],
   "source": [
    "rand_search.fit(new_data_scaled,y_train)"
   ]
  },
  {
   "cell_type": "code",
   "execution_count": 30,
   "id": "dce5595b",
   "metadata": {
    "scrolled": true
   },
   "outputs": [
    {
     "data": {
      "text/plain": [
       "{'subsample': 0.6,\n",
       " 'scale_pos_weight': 1.3,\n",
       " 'reg_lambda': 10,\n",
       " 'n_estimators': 95,\n",
       " 'min_child_weight': 7,\n",
       " 'max_depth': 12,\n",
       " 'learning_rate': 0.08,\n",
       " 'gamma': 3.5,\n",
       " 'colsample_bytree': 0.5}"
      ]
     },
     "execution_count": 30,
     "metadata": {},
     "output_type": "execute_result"
    }
   ],
   "source": [
    "rand_search.best_params_"
   ]
  },
  {
   "cell_type": "code",
   "execution_count": 31,
   "id": "ab066c14",
   "metadata": {},
   "outputs": [],
   "source": [
    "est = rand_search.best_estimator_"
   ]
  },
  {
   "cell_type": "code",
   "execution_count": 32,
   "id": "0fd4df9e",
   "metadata": {},
   "outputs": [
    {
     "data": {
      "text/html": [
       "<div>\n",
       "<style scoped>\n",
       "    .dataframe tbody tr th:only-of-type {\n",
       "        vertical-align: middle;\n",
       "    }\n",
       "\n",
       "    .dataframe tbody tr th {\n",
       "        vertical-align: top;\n",
       "    }\n",
       "\n",
       "    .dataframe thead th {\n",
       "        text-align: right;\n",
       "    }\n",
       "</style>\n",
       "<table border=\"1\" class=\"dataframe\">\n",
       "  <thead>\n",
       "    <tr style=\"text-align: right;\">\n",
       "      <th></th>\n",
       "      <th>thresholds</th>\n",
       "      <th>accuracy_scores</th>\n",
       "      <th>f1_scores</th>\n",
       "      <th>roc_auc_scores</th>\n",
       "      <th>precision_scores</th>\n",
       "      <th>recall_scores</th>\n",
       "    </tr>\n",
       "  </thead>\n",
       "  <tbody>\n",
       "    <tr>\n",
       "      <th>0</th>\n",
       "      <td>0.0</td>\n",
       "      <td>0.097643</td>\n",
       "      <td>0.177914</td>\n",
       "      <td>0.500000</td>\n",
       "      <td>0.097643</td>\n",
       "      <td>1.000000</td>\n",
       "    </tr>\n",
       "    <tr>\n",
       "      <th>1</th>\n",
       "      <td>0.1</td>\n",
       "      <td>0.888071</td>\n",
       "      <td>0.602183</td>\n",
       "      <td>0.878940</td>\n",
       "      <td>0.461120</td>\n",
       "      <td>0.867593</td>\n",
       "    </tr>\n",
       "    <tr>\n",
       "      <th>2</th>\n",
       "      <td>0.2</td>\n",
       "      <td>0.922500</td>\n",
       "      <td>0.665020</td>\n",
       "      <td>0.862463</td>\n",
       "      <td>0.575321</td>\n",
       "      <td>0.787857</td>\n",
       "    </tr>\n",
       "    <tr>\n",
       "      <th>3</th>\n",
       "      <td>0.3</td>\n",
       "      <td>0.937357</td>\n",
       "      <td>0.697273</td>\n",
       "      <td>0.848841</td>\n",
       "      <td>0.660131</td>\n",
       "      <td>0.738844</td>\n",
       "    </tr>\n",
       "    <tr>\n",
       "      <th>4</th>\n",
       "      <td>0.4</td>\n",
       "      <td>0.942214</td>\n",
       "      <td>0.700924</td>\n",
       "      <td>0.831309</td>\n",
       "      <td>0.708520</td>\n",
       "      <td>0.693489</td>\n",
       "    </tr>\n",
       "    <tr>\n",
       "      <th>5</th>\n",
       "      <td>0.5</td>\n",
       "      <td>0.943143</td>\n",
       "      <td>0.688576</td>\n",
       "      <td>0.809643</td>\n",
       "      <td>0.740118</td>\n",
       "      <td>0.643745</td>\n",
       "    </tr>\n",
       "    <tr>\n",
       "      <th>6</th>\n",
       "      <td>0.6</td>\n",
       "      <td>0.942357</td>\n",
       "      <td>0.665562</td>\n",
       "      <td>0.784091</td>\n",
       "      <td>0.767686</td>\n",
       "      <td>0.587418</td>\n",
       "    </tr>\n",
       "    <tr>\n",
       "      <th>7</th>\n",
       "      <td>0.7</td>\n",
       "      <td>0.940643</td>\n",
       "      <td>0.627521</td>\n",
       "      <td>0.749544</td>\n",
       "      <td>0.810185</td>\n",
       "      <td>0.512070</td>\n",
       "    </tr>\n",
       "    <tr>\n",
       "      <th>8</th>\n",
       "      <td>0.8</td>\n",
       "      <td>0.935643</td>\n",
       "      <td>0.548371</td>\n",
       "      <td>0.696867</td>\n",
       "      <td>0.871019</td>\n",
       "      <td>0.400146</td>\n",
       "    </tr>\n",
       "    <tr>\n",
       "      <th>9</th>\n",
       "      <td>0.9</td>\n",
       "      <td>0.921500</td>\n",
       "      <td>0.337553</td>\n",
       "      <td>0.601939</td>\n",
       "      <td>0.958904</td>\n",
       "      <td>0.204828</td>\n",
       "    </tr>\n",
       "  </tbody>\n",
       "</table>\n",
       "</div>"
      ],
      "text/plain": [
       "   thresholds  accuracy_scores  f1_scores  roc_auc_scores  precision_scores  \\\n",
       "0         0.0         0.097643   0.177914        0.500000          0.097643   \n",
       "1         0.1         0.888071   0.602183        0.878940          0.461120   \n",
       "2         0.2         0.922500   0.665020        0.862463          0.575321   \n",
       "3         0.3         0.937357   0.697273        0.848841          0.660131   \n",
       "4         0.4         0.942214   0.700924        0.831309          0.708520   \n",
       "5         0.5         0.943143   0.688576        0.809643          0.740118   \n",
       "6         0.6         0.942357   0.665562        0.784091          0.767686   \n",
       "7         0.7         0.940643   0.627521        0.749544          0.810185   \n",
       "8         0.8         0.935643   0.548371        0.696867          0.871019   \n",
       "9         0.9         0.921500   0.337553        0.601939          0.958904   \n",
       "\n",
       "   recall_scores  \n",
       "0       1.000000  \n",
       "1       0.867593  \n",
       "2       0.787857  \n",
       "3       0.738844  \n",
       "4       0.693489  \n",
       "5       0.643745  \n",
       "6       0.587418  \n",
       "7       0.512070  \n",
       "8       0.400146  \n",
       "9       0.204828  "
      ]
     },
     "execution_count": 32,
     "metadata": {},
     "output_type": "execute_result"
    }
   ],
   "source": [
    "checkThreshold(est)"
   ]
  },
  {
   "cell_type": "code",
   "execution_count": 33,
   "id": "6a327225",
   "metadata": {},
   "outputs": [
    {
     "data": {
      "text/plain": [
       "0.8096428398330426"
      ]
     },
     "execution_count": 33,
     "metadata": {},
     "output_type": "execute_result"
    }
   ],
   "source": [
    "roc_auc_score(y_test,est.predict(scalar.transform(X_test)))\n",
    "roc_auc_score(y_test,est.predict(scalar.transform(X_test)))"
   ]
  },
  {
   "cell_type": "code",
   "execution_count": 34,
   "id": "3965c9f4",
   "metadata": {},
   "outputs": [
    {
     "data": {
      "text/plain": [
       "array([0, 0, 0, ..., 1, 0, 1])"
      ]
     },
     "execution_count": 34,
     "metadata": {},
     "output_type": "execute_result"
    }
   ],
   "source": [
    "np.array((est.predict_proba(X_test)[:,1]>=0.1).astype(int))"
   ]
  },
  {
   "cell_type": "code",
   "execution_count": 35,
   "id": "10115887",
   "metadata": {},
   "outputs": [],
   "source": [
    "dt = DecisionTreeClassifier(max_depth=5,max_features=10,min_samples_leaf=36)"
   ]
  },
  {
   "cell_type": "code",
   "execution_count": 96,
   "id": "fb3c3448",
   "metadata": {},
   "outputs": [],
   "source": [
    "pca = PCA(0.95)\n",
    "X_train_pca = pca.fit_transform(new_data_scaled)"
   ]
  },
  {
   "cell_type": "code",
   "execution_count": 97,
   "id": "767f6e0a",
   "metadata": {},
   "outputs": [
    {
     "data": {
      "text/html": [
       "<style>#sk-container-id-5 {color: black;}#sk-container-id-5 pre{padding: 0;}#sk-container-id-5 div.sk-toggleable {background-color: white;}#sk-container-id-5 label.sk-toggleable__label {cursor: pointer;display: block;width: 100%;margin-bottom: 0;padding: 0.3em;box-sizing: border-box;text-align: center;}#sk-container-id-5 label.sk-toggleable__label-arrow:before {content: \"▸\";float: left;margin-right: 0.25em;color: #696969;}#sk-container-id-5 label.sk-toggleable__label-arrow:hover:before {color: black;}#sk-container-id-5 div.sk-estimator:hover label.sk-toggleable__label-arrow:before {color: black;}#sk-container-id-5 div.sk-toggleable__content {max-height: 0;max-width: 0;overflow: hidden;text-align: left;background-color: #f0f8ff;}#sk-container-id-5 div.sk-toggleable__content pre {margin: 0.2em;color: black;border-radius: 0.25em;background-color: #f0f8ff;}#sk-container-id-5 input.sk-toggleable__control:checked~div.sk-toggleable__content {max-height: 200px;max-width: 100%;overflow: auto;}#sk-container-id-5 input.sk-toggleable__control:checked~label.sk-toggleable__label-arrow:before {content: \"▾\";}#sk-container-id-5 div.sk-estimator input.sk-toggleable__control:checked~label.sk-toggleable__label {background-color: #d4ebff;}#sk-container-id-5 div.sk-label input.sk-toggleable__control:checked~label.sk-toggleable__label {background-color: #d4ebff;}#sk-container-id-5 input.sk-hidden--visually {border: 0;clip: rect(1px 1px 1px 1px);clip: rect(1px, 1px, 1px, 1px);height: 1px;margin: -1px;overflow: hidden;padding: 0;position: absolute;width: 1px;}#sk-container-id-5 div.sk-estimator {font-family: monospace;background-color: #f0f8ff;border: 1px dotted black;border-radius: 0.25em;box-sizing: border-box;margin-bottom: 0.5em;}#sk-container-id-5 div.sk-estimator:hover {background-color: #d4ebff;}#sk-container-id-5 div.sk-parallel-item::after {content: \"\";width: 100%;border-bottom: 1px solid gray;flex-grow: 1;}#sk-container-id-5 div.sk-label:hover label.sk-toggleable__label {background-color: #d4ebff;}#sk-container-id-5 div.sk-serial::before {content: \"\";position: absolute;border-left: 1px solid gray;box-sizing: border-box;top: 0;bottom: 0;left: 50%;z-index: 0;}#sk-container-id-5 div.sk-serial {display: flex;flex-direction: column;align-items: center;background-color: white;padding-right: 0.2em;padding-left: 0.2em;position: relative;}#sk-container-id-5 div.sk-item {position: relative;z-index: 1;}#sk-container-id-5 div.sk-parallel {display: flex;align-items: stretch;justify-content: center;background-color: white;position: relative;}#sk-container-id-5 div.sk-item::before, #sk-container-id-5 div.sk-parallel-item::before {content: \"\";position: absolute;border-left: 1px solid gray;box-sizing: border-box;top: 0;bottom: 0;left: 50%;z-index: -1;}#sk-container-id-5 div.sk-parallel-item {display: flex;flex-direction: column;z-index: 1;position: relative;background-color: white;}#sk-container-id-5 div.sk-parallel-item:first-child::after {align-self: flex-end;width: 50%;}#sk-container-id-5 div.sk-parallel-item:last-child::after {align-self: flex-start;width: 50%;}#sk-container-id-5 div.sk-parallel-item:only-child::after {width: 0;}#sk-container-id-5 div.sk-dashed-wrapped {border: 1px dashed gray;margin: 0 0.4em 0.5em 0.4em;box-sizing: border-box;padding-bottom: 0.4em;background-color: white;}#sk-container-id-5 div.sk-label label {font-family: monospace;font-weight: bold;display: inline-block;line-height: 1.2em;}#sk-container-id-5 div.sk-label-container {text-align: center;}#sk-container-id-5 div.sk-container {/* jupyter's `normalize.less` sets `[hidden] { display: none; }` but bootstrap.min.css set `[hidden] { display: none !important; }` so we also need the `!important` here to be able to override the default hidden behavior on the sphinx rendered scikit-learn.org. See: https://github.com/scikit-learn/scikit-learn/issues/21755 */display: inline-block !important;position: relative;}#sk-container-id-5 div.sk-text-repr-fallback {display: none;}</style><div id=\"sk-container-id-5\" class=\"sk-top-container\"><div class=\"sk-text-repr-fallback\"><pre>DecisionTreeClassifier(max_depth=5, max_features=10, min_samples_leaf=36)</pre><b>In a Jupyter environment, please rerun this cell to show the HTML representation or trust the notebook. <br />On GitHub, the HTML representation is unable to render, please try loading this page with nbviewer.org.</b></div><div class=\"sk-container\" hidden><div class=\"sk-item\"><div class=\"sk-estimator sk-toggleable\"><input class=\"sk-toggleable__control sk-hidden--visually\" id=\"sk-estimator-id-7\" type=\"checkbox\" checked><label for=\"sk-estimator-id-7\" class=\"sk-toggleable__label sk-toggleable__label-arrow\">DecisionTreeClassifier</label><div class=\"sk-toggleable__content\"><pre>DecisionTreeClassifier(max_depth=5, max_features=10, min_samples_leaf=36)</pre></div></div></div></div></div>"
      ],
      "text/plain": [
       "DecisionTreeClassifier(max_depth=5, max_features=10, min_samples_leaf=36)"
      ]
     },
     "execution_count": 97,
     "metadata": {},
     "output_type": "execute_result"
    }
   ],
   "source": [
    "dt.fit(X_train_pca,y_train)"
   ]
  },
  {
   "cell_type": "code",
   "execution_count": 100,
   "id": "693e6e02",
   "metadata": {},
   "outputs": [],
   "source": [
    "def checkThresholdForPCA(xb):\n",
    "    thresholds = []\n",
    "    roc_auc_scores= []\n",
    "    precision_scores= []\n",
    "    recall_scores=[]\n",
    "    f1_scores = []\n",
    "    accuracy_scores = []\n",
    "    for i in np.arange(0,10):\n",
    "        y_pred_threshold = np.array((xb.predict_proba(pca.transform(scalar.transform(X_test)))[:,1]>(i/10)).astype(int))\n",
    "        thresholds.append(i/10)\n",
    "        accuracy_scores.append(accuracy_score(y_test,y_pred_threshold))\n",
    "        f1_scores.append(f1_score(y_test,y_pred_threshold))\n",
    "        roc_auc_scores.append(roc_auc_score(y_test,y_pred_threshold))\n",
    "        precision_scores.append(precision_score(y_test,y_pred_threshold))\n",
    "        recall_scores.append(recall_score(y_test,y_pred_threshold))\n",
    "    return pd.DataFrame({'thresholds':thresholds,'accuracy_scores':accuracy_scores,'f1_scores':f1_scores,'roc_auc_scores':roc_auc_scores,'precision_scores':precision_scores,'recall_scores':recall_scores})"
   ]
  },
  {
   "cell_type": "code",
   "execution_count": 101,
   "id": "8c9f8a83",
   "metadata": {},
   "outputs": [
    {
     "data": {
      "text/html": [
       "<div>\n",
       "<style scoped>\n",
       "    .dataframe tbody tr th:only-of-type {\n",
       "        vertical-align: middle;\n",
       "    }\n",
       "\n",
       "    .dataframe tbody tr th {\n",
       "        vertical-align: top;\n",
       "    }\n",
       "\n",
       "    .dataframe thead th {\n",
       "        text-align: right;\n",
       "    }\n",
       "</style>\n",
       "<table border=\"1\" class=\"dataframe\">\n",
       "  <thead>\n",
       "    <tr style=\"text-align: right;\">\n",
       "      <th></th>\n",
       "      <th>thresholds</th>\n",
       "      <th>accuracy_scores</th>\n",
       "      <th>f1_scores</th>\n",
       "      <th>roc_auc_scores</th>\n",
       "      <th>precision_scores</th>\n",
       "      <th>recall_scores</th>\n",
       "    </tr>\n",
       "  </thead>\n",
       "  <tbody>\n",
       "    <tr>\n",
       "      <th>0</th>\n",
       "      <td>0.0</td>\n",
       "      <td>0.101214</td>\n",
       "      <td>0.183823</td>\n",
       "      <td>0.500000</td>\n",
       "      <td>0.101214</td>\n",
       "      <td>1.000000</td>\n",
       "    </tr>\n",
       "    <tr>\n",
       "      <th>1</th>\n",
       "      <td>0.1</td>\n",
       "      <td>0.769643</td>\n",
       "      <td>0.364031</td>\n",
       "      <td>0.717169</td>\n",
       "      <td>0.252600</td>\n",
       "      <td>0.651376</td>\n",
       "    </tr>\n",
       "    <tr>\n",
       "      <th>2</th>\n",
       "      <td>0.2</td>\n",
       "      <td>0.854786</td>\n",
       "      <td>0.392953</td>\n",
       "      <td>0.681557</td>\n",
       "      <td>0.340580</td>\n",
       "      <td>0.464361</td>\n",
       "    </tr>\n",
       "    <tr>\n",
       "      <th>3</th>\n",
       "      <td>0.3</td>\n",
       "      <td>0.874714</td>\n",
       "      <td>0.358449</td>\n",
       "      <td>0.640039</td>\n",
       "      <td>0.372058</td>\n",
       "      <td>0.345801</td>\n",
       "    </tr>\n",
       "    <tr>\n",
       "      <th>4</th>\n",
       "      <td>0.4</td>\n",
       "      <td>0.899357</td>\n",
       "      <td>0.230475</td>\n",
       "      <td>0.566387</td>\n",
       "      <td>0.509662</td>\n",
       "      <td>0.148906</td>\n",
       "    </tr>\n",
       "    <tr>\n",
       "      <th>5</th>\n",
       "      <td>0.5</td>\n",
       "      <td>0.901429</td>\n",
       "      <td>0.215909</td>\n",
       "      <td>0.560963</td>\n",
       "      <td>0.553936</td>\n",
       "      <td>0.134086</td>\n",
       "    </tr>\n",
       "    <tr>\n",
       "      <th>6</th>\n",
       "      <td>0.6</td>\n",
       "      <td>0.901429</td>\n",
       "      <td>0.215909</td>\n",
       "      <td>0.560963</td>\n",
       "      <td>0.553936</td>\n",
       "      <td>0.134086</td>\n",
       "    </tr>\n",
       "    <tr>\n",
       "      <th>7</th>\n",
       "      <td>0.7</td>\n",
       "      <td>0.898786</td>\n",
       "      <td>0.000000</td>\n",
       "      <td>0.500000</td>\n",
       "      <td>0.000000</td>\n",
       "      <td>0.000000</td>\n",
       "    </tr>\n",
       "    <tr>\n",
       "      <th>8</th>\n",
       "      <td>0.8</td>\n",
       "      <td>0.898786</td>\n",
       "      <td>0.000000</td>\n",
       "      <td>0.500000</td>\n",
       "      <td>0.000000</td>\n",
       "      <td>0.000000</td>\n",
       "    </tr>\n",
       "    <tr>\n",
       "      <th>9</th>\n",
       "      <td>0.9</td>\n",
       "      <td>0.898786</td>\n",
       "      <td>0.000000</td>\n",
       "      <td>0.500000</td>\n",
       "      <td>0.000000</td>\n",
       "      <td>0.000000</td>\n",
       "    </tr>\n",
       "  </tbody>\n",
       "</table>\n",
       "</div>"
      ],
      "text/plain": [
       "   thresholds  accuracy_scores  f1_scores  roc_auc_scores  precision_scores  \\\n",
       "0         0.0         0.101214   0.183823        0.500000          0.101214   \n",
       "1         0.1         0.769643   0.364031        0.717169          0.252600   \n",
       "2         0.2         0.854786   0.392953        0.681557          0.340580   \n",
       "3         0.3         0.874714   0.358449        0.640039          0.372058   \n",
       "4         0.4         0.899357   0.230475        0.566387          0.509662   \n",
       "5         0.5         0.901429   0.215909        0.560963          0.553936   \n",
       "6         0.6         0.901429   0.215909        0.560963          0.553936   \n",
       "7         0.7         0.898786   0.000000        0.500000          0.000000   \n",
       "8         0.8         0.898786   0.000000        0.500000          0.000000   \n",
       "9         0.9         0.898786   0.000000        0.500000          0.000000   \n",
       "\n",
       "   recall_scores  \n",
       "0       1.000000  \n",
       "1       0.651376  \n",
       "2       0.464361  \n",
       "3       0.345801  \n",
       "4       0.148906  \n",
       "5       0.134086  \n",
       "6       0.134086  \n",
       "7       0.000000  \n",
       "8       0.000000  \n",
       "9       0.000000  "
      ]
     },
     "execution_count": 101,
     "metadata": {},
     "output_type": "execute_result"
    }
   ],
   "source": [
    "checkThresholdForPCA(dt)"
   ]
  },
  {
   "cell_type": "code",
   "execution_count": null,
   "id": "5749cca3",
   "metadata": {},
   "outputs": [],
   "source": []
  },
  {
   "cell_type": "code",
   "execution_count": 103,
   "id": "5ebf5c91",
   "metadata": {},
   "outputs": [],
   "source": [
    "id = unseen['id']"
   ]
  },
  {
   "cell_type": "code",
   "execution_count": 104,
   "id": "d41d5121",
   "metadata": {},
   "outputs": [],
   "source": [
    "new_unseen =  unseen.loc[:,[i for i in unseen.columns if i not in removedColumn]]"
   ]
  },
  {
   "cell_type": "code",
   "execution_count": 105,
   "id": "08592dde",
   "metadata": {},
   "outputs": [],
   "source": [
    "new_unseen.shape\n",
    "new_unseen.drop(columns='id',axis=1,inplace=True)"
   ]
  },
  {
   "cell_type": "code",
   "execution_count": 106,
   "id": "17961daf-43a3-4021-a233-41fe94669d7d",
   "metadata": {},
   "outputs": [
    {
     "data": {
      "text/plain": [
       "arpu_6              0\n",
       "total_rech_num_6    0\n",
       "ic_others_7         0\n",
       "ic_others_6         0\n",
       "isd_ic_mou_8        0\n",
       "                   ..\n",
       "std_og_t2f_mou_6    0\n",
       "std_og_t2m_mou_8    0\n",
       "std_og_t2m_mou_7    0\n",
       "std_og_t2m_mou_6    0\n",
       "jun_vbc_3g          0\n",
       "Length: 122, dtype: int64"
      ]
     },
     "execution_count": 106,
     "metadata": {},
     "output_type": "execute_result"
    }
   ],
   "source": [
    "for i in new_unseen.columns:\n",
    "    if new_unseen[i].isnull().sum()>0:\n",
    "        new_unseen[i].fillna(new_unseen[i].mean(),inplace= True)\n",
    "new_unseen.isnull().sum().sort_values(ascending=False)"
   ]
  },
  {
   "cell_type": "code",
   "execution_count": 107,
   "id": "cb2a8751",
   "metadata": {},
   "outputs": [],
   "source": [
    "new_unseen_scaled =  scalar.transform(new_unseen)"
   ]
  },
  {
   "cell_type": "code",
   "execution_count": 108,
   "id": "467b9e0d",
   "metadata": {},
   "outputs": [
    {
     "data": {
      "text/plain": [
       "array([0, 0, 1, ..., 0, 0, 0])"
      ]
     },
     "execution_count": 108,
     "metadata": {},
     "output_type": "execute_result"
    }
   ],
   "source": [
    "\n",
    "np.array((est.predict_proba(new_unseen_scaled)[:,1]>=0.3).astype(int))"
   ]
  },
  {
   "cell_type": "code",
   "execution_count": 109,
   "id": "2ca55d62",
   "metadata": {},
   "outputs": [],
   "source": [
    "pd.DataFrame({'id':id,'churn_probability':np.array((est.predict_proba(new_unseen_scaled)[:,1]>=0.3).astype(int))}).set_index('id').to_csv('submission.csv')"
   ]
  },
  {
   "cell_type": "code",
   "execution_count": 110,
   "id": "837e2d96",
   "metadata": {},
   "outputs": [],
   "source": [
    "scoring = {'accuracy': make_scorer(accuracy_score)}\n",
    "parameters = {\n",
    "    \"learning_rate\": [0.01, 0.025, 0.05, 0.1, 0.15],\n",
    "    \"min_samples_split\": np.arange(5, 13, 3),\n",
    "    \"min_samples_leaf\": np.arange(5, 15, 3),\n",
    "    \"max_depth\":np.arange(6,11,2),\n",
    "    \"criterion\": [\"friedman_mse\"],\n",
    "    \"subsample\":[0.1,0.3,0.5],\n",
    "    \"n_estimators\":[50,150]\n",
    "    }\n",
    "#passing the scoring function in the GridSearchCV\n",
    "clf = GridSearchCV(GradientBoostingClassifier(), parameters,scoring=scoring,refit=False,cv=4, n_jobs=-1,verbose=1)"
   ]
  },
  {
   "cell_type": "code",
   "execution_count": 111,
   "id": "37ad167b",
   "metadata": {},
   "outputs": [
    {
     "name": "stdout",
     "output_type": "stream",
     "text": [
      "Fitting 4 folds for each of 1080 candidates, totalling 4320 fits\n"
     ]
    },
    {
     "ename": "KeyboardInterrupt",
     "evalue": "",
     "output_type": "error",
     "traceback": [
      "\u001b[1;31m---------------------------------------------------------------------------\u001b[0m",
      "\u001b[1;31mKeyboardInterrupt\u001b[0m                         Traceback (most recent call last)",
      "Cell \u001b[1;32mIn[111], line 1\u001b[0m\n\u001b[1;32m----> 1\u001b[0m clf\u001b[38;5;241m.\u001b[39mfit(new_data_scaled,y_train)\n",
      "File \u001b[1;32m~\\anaconda3\\Lib\\site-packages\\sklearn\\base.py:1151\u001b[0m, in \u001b[0;36m_fit_context.<locals>.decorator.<locals>.wrapper\u001b[1;34m(estimator, *args, **kwargs)\u001b[0m\n\u001b[0;32m   1144\u001b[0m     estimator\u001b[38;5;241m.\u001b[39m_validate_params()\n\u001b[0;32m   1146\u001b[0m \u001b[38;5;28;01mwith\u001b[39;00m config_context(\n\u001b[0;32m   1147\u001b[0m     skip_parameter_validation\u001b[38;5;241m=\u001b[39m(\n\u001b[0;32m   1148\u001b[0m         prefer_skip_nested_validation \u001b[38;5;129;01mor\u001b[39;00m global_skip_validation\n\u001b[0;32m   1149\u001b[0m     )\n\u001b[0;32m   1150\u001b[0m ):\n\u001b[1;32m-> 1151\u001b[0m     \u001b[38;5;28;01mreturn\u001b[39;00m fit_method(estimator, \u001b[38;5;241m*\u001b[39margs, \u001b[38;5;241m*\u001b[39m\u001b[38;5;241m*\u001b[39mkwargs)\n",
      "File \u001b[1;32m~\\anaconda3\\Lib\\site-packages\\sklearn\\model_selection\\_search.py:898\u001b[0m, in \u001b[0;36mBaseSearchCV.fit\u001b[1;34m(self, X, y, groups, **fit_params)\u001b[0m\n\u001b[0;32m    892\u001b[0m     results \u001b[38;5;241m=\u001b[39m \u001b[38;5;28mself\u001b[39m\u001b[38;5;241m.\u001b[39m_format_results(\n\u001b[0;32m    893\u001b[0m         all_candidate_params, n_splits, all_out, all_more_results\n\u001b[0;32m    894\u001b[0m     )\n\u001b[0;32m    896\u001b[0m     \u001b[38;5;28;01mreturn\u001b[39;00m results\n\u001b[1;32m--> 898\u001b[0m \u001b[38;5;28mself\u001b[39m\u001b[38;5;241m.\u001b[39m_run_search(evaluate_candidates)\n\u001b[0;32m    900\u001b[0m \u001b[38;5;66;03m# multimetric is determined here because in the case of a callable\u001b[39;00m\n\u001b[0;32m    901\u001b[0m \u001b[38;5;66;03m# self.scoring the return type is only known after calling\u001b[39;00m\n\u001b[0;32m    902\u001b[0m first_test_score \u001b[38;5;241m=\u001b[39m all_out[\u001b[38;5;241m0\u001b[39m][\u001b[38;5;124m\"\u001b[39m\u001b[38;5;124mtest_scores\u001b[39m\u001b[38;5;124m\"\u001b[39m]\n",
      "File \u001b[1;32m~\\anaconda3\\Lib\\site-packages\\sklearn\\model_selection\\_search.py:1419\u001b[0m, in \u001b[0;36mGridSearchCV._run_search\u001b[1;34m(self, evaluate_candidates)\u001b[0m\n\u001b[0;32m   1417\u001b[0m \u001b[38;5;28;01mdef\u001b[39;00m \u001b[38;5;21m_run_search\u001b[39m(\u001b[38;5;28mself\u001b[39m, evaluate_candidates):\n\u001b[0;32m   1418\u001b[0m \u001b[38;5;250m    \u001b[39m\u001b[38;5;124;03m\"\"\"Search all candidates in param_grid\"\"\"\u001b[39;00m\n\u001b[1;32m-> 1419\u001b[0m     evaluate_candidates(ParameterGrid(\u001b[38;5;28mself\u001b[39m\u001b[38;5;241m.\u001b[39mparam_grid))\n",
      "File \u001b[1;32m~\\anaconda3\\Lib\\site-packages\\sklearn\\model_selection\\_search.py:845\u001b[0m, in \u001b[0;36mBaseSearchCV.fit.<locals>.evaluate_candidates\u001b[1;34m(candidate_params, cv, more_results)\u001b[0m\n\u001b[0;32m    837\u001b[0m \u001b[38;5;28;01mif\u001b[39;00m \u001b[38;5;28mself\u001b[39m\u001b[38;5;241m.\u001b[39mverbose \u001b[38;5;241m>\u001b[39m \u001b[38;5;241m0\u001b[39m:\n\u001b[0;32m    838\u001b[0m     \u001b[38;5;28mprint\u001b[39m(\n\u001b[0;32m    839\u001b[0m         \u001b[38;5;124m\"\u001b[39m\u001b[38;5;124mFitting \u001b[39m\u001b[38;5;132;01m{0}\u001b[39;00m\u001b[38;5;124m folds for each of \u001b[39m\u001b[38;5;132;01m{1}\u001b[39;00m\u001b[38;5;124m candidates,\u001b[39m\u001b[38;5;124m\"\u001b[39m\n\u001b[0;32m    840\u001b[0m         \u001b[38;5;124m\"\u001b[39m\u001b[38;5;124m totalling \u001b[39m\u001b[38;5;132;01m{2}\u001b[39;00m\u001b[38;5;124m fits\u001b[39m\u001b[38;5;124m\"\u001b[39m\u001b[38;5;241m.\u001b[39mformat(\n\u001b[0;32m    841\u001b[0m             n_splits, n_candidates, n_candidates \u001b[38;5;241m*\u001b[39m n_splits\n\u001b[0;32m    842\u001b[0m         )\n\u001b[0;32m    843\u001b[0m     )\n\u001b[1;32m--> 845\u001b[0m out \u001b[38;5;241m=\u001b[39m parallel(\n\u001b[0;32m    846\u001b[0m     delayed(_fit_and_score)(\n\u001b[0;32m    847\u001b[0m         clone(base_estimator),\n\u001b[0;32m    848\u001b[0m         X,\n\u001b[0;32m    849\u001b[0m         y,\n\u001b[0;32m    850\u001b[0m         train\u001b[38;5;241m=\u001b[39mtrain,\n\u001b[0;32m    851\u001b[0m         test\u001b[38;5;241m=\u001b[39mtest,\n\u001b[0;32m    852\u001b[0m         parameters\u001b[38;5;241m=\u001b[39mparameters,\n\u001b[0;32m    853\u001b[0m         split_progress\u001b[38;5;241m=\u001b[39m(split_idx, n_splits),\n\u001b[0;32m    854\u001b[0m         candidate_progress\u001b[38;5;241m=\u001b[39m(cand_idx, n_candidates),\n\u001b[0;32m    855\u001b[0m         \u001b[38;5;241m*\u001b[39m\u001b[38;5;241m*\u001b[39mfit_and_score_kwargs,\n\u001b[0;32m    856\u001b[0m     )\n\u001b[0;32m    857\u001b[0m     \u001b[38;5;28;01mfor\u001b[39;00m (cand_idx, parameters), (split_idx, (train, test)) \u001b[38;5;129;01min\u001b[39;00m product(\n\u001b[0;32m    858\u001b[0m         \u001b[38;5;28menumerate\u001b[39m(candidate_params), \u001b[38;5;28menumerate\u001b[39m(cv\u001b[38;5;241m.\u001b[39msplit(X, y, groups))\n\u001b[0;32m    859\u001b[0m     )\n\u001b[0;32m    860\u001b[0m )\n\u001b[0;32m    862\u001b[0m \u001b[38;5;28;01mif\u001b[39;00m \u001b[38;5;28mlen\u001b[39m(out) \u001b[38;5;241m<\u001b[39m \u001b[38;5;241m1\u001b[39m:\n\u001b[0;32m    863\u001b[0m     \u001b[38;5;28;01mraise\u001b[39;00m \u001b[38;5;167;01mValueError\u001b[39;00m(\n\u001b[0;32m    864\u001b[0m         \u001b[38;5;124m\"\u001b[39m\u001b[38;5;124mNo fits were performed. \u001b[39m\u001b[38;5;124m\"\u001b[39m\n\u001b[0;32m    865\u001b[0m         \u001b[38;5;124m\"\u001b[39m\u001b[38;5;124mWas the CV iterator empty? \u001b[39m\u001b[38;5;124m\"\u001b[39m\n\u001b[0;32m    866\u001b[0m         \u001b[38;5;124m\"\u001b[39m\u001b[38;5;124mWere there no candidates?\u001b[39m\u001b[38;5;124m\"\u001b[39m\n\u001b[0;32m    867\u001b[0m     )\n",
      "File \u001b[1;32m~\\anaconda3\\Lib\\site-packages\\sklearn\\utils\\parallel.py:65\u001b[0m, in \u001b[0;36mParallel.__call__\u001b[1;34m(self, iterable)\u001b[0m\n\u001b[0;32m     60\u001b[0m config \u001b[38;5;241m=\u001b[39m get_config()\n\u001b[0;32m     61\u001b[0m iterable_with_config \u001b[38;5;241m=\u001b[39m (\n\u001b[0;32m     62\u001b[0m     (_with_config(delayed_func, config), args, kwargs)\n\u001b[0;32m     63\u001b[0m     \u001b[38;5;28;01mfor\u001b[39;00m delayed_func, args, kwargs \u001b[38;5;129;01min\u001b[39;00m iterable\n\u001b[0;32m     64\u001b[0m )\n\u001b[1;32m---> 65\u001b[0m \u001b[38;5;28;01mreturn\u001b[39;00m \u001b[38;5;28msuper\u001b[39m()\u001b[38;5;241m.\u001b[39m\u001b[38;5;21m__call__\u001b[39m(iterable_with_config)\n",
      "File \u001b[1;32m~\\anaconda3\\Lib\\site-packages\\joblib\\parallel.py:1098\u001b[0m, in \u001b[0;36mParallel.__call__\u001b[1;34m(self, iterable)\u001b[0m\n\u001b[0;32m   1095\u001b[0m     \u001b[38;5;28mself\u001b[39m\u001b[38;5;241m.\u001b[39m_iterating \u001b[38;5;241m=\u001b[39m \u001b[38;5;28;01mFalse\u001b[39;00m\n\u001b[0;32m   1097\u001b[0m \u001b[38;5;28;01mwith\u001b[39;00m \u001b[38;5;28mself\u001b[39m\u001b[38;5;241m.\u001b[39m_backend\u001b[38;5;241m.\u001b[39mretrieval_context():\n\u001b[1;32m-> 1098\u001b[0m     \u001b[38;5;28mself\u001b[39m\u001b[38;5;241m.\u001b[39mretrieve()\n\u001b[0;32m   1099\u001b[0m \u001b[38;5;66;03m# Make sure that we get a last message telling us we are done\u001b[39;00m\n\u001b[0;32m   1100\u001b[0m elapsed_time \u001b[38;5;241m=\u001b[39m time\u001b[38;5;241m.\u001b[39mtime() \u001b[38;5;241m-\u001b[39m \u001b[38;5;28mself\u001b[39m\u001b[38;5;241m.\u001b[39m_start_time\n",
      "File \u001b[1;32m~\\anaconda3\\Lib\\site-packages\\joblib\\parallel.py:975\u001b[0m, in \u001b[0;36mParallel.retrieve\u001b[1;34m(self)\u001b[0m\n\u001b[0;32m    973\u001b[0m \u001b[38;5;28;01mtry\u001b[39;00m:\n\u001b[0;32m    974\u001b[0m     \u001b[38;5;28;01mif\u001b[39;00m \u001b[38;5;28mgetattr\u001b[39m(\u001b[38;5;28mself\u001b[39m\u001b[38;5;241m.\u001b[39m_backend, \u001b[38;5;124m'\u001b[39m\u001b[38;5;124msupports_timeout\u001b[39m\u001b[38;5;124m'\u001b[39m, \u001b[38;5;28;01mFalse\u001b[39;00m):\n\u001b[1;32m--> 975\u001b[0m         \u001b[38;5;28mself\u001b[39m\u001b[38;5;241m.\u001b[39m_output\u001b[38;5;241m.\u001b[39mextend(job\u001b[38;5;241m.\u001b[39mget(timeout\u001b[38;5;241m=\u001b[39m\u001b[38;5;28mself\u001b[39m\u001b[38;5;241m.\u001b[39mtimeout))\n\u001b[0;32m    976\u001b[0m     \u001b[38;5;28;01melse\u001b[39;00m:\n\u001b[0;32m    977\u001b[0m         \u001b[38;5;28mself\u001b[39m\u001b[38;5;241m.\u001b[39m_output\u001b[38;5;241m.\u001b[39mextend(job\u001b[38;5;241m.\u001b[39mget())\n",
      "File \u001b[1;32m~\\anaconda3\\Lib\\site-packages\\joblib\\_parallel_backends.py:567\u001b[0m, in \u001b[0;36mLokyBackend.wrap_future_result\u001b[1;34m(future, timeout)\u001b[0m\n\u001b[0;32m    564\u001b[0m \u001b[38;5;250m\u001b[39m\u001b[38;5;124;03m\"\"\"Wrapper for Future.result to implement the same behaviour as\u001b[39;00m\n\u001b[0;32m    565\u001b[0m \u001b[38;5;124;03mAsyncResults.get from multiprocessing.\"\"\"\u001b[39;00m\n\u001b[0;32m    566\u001b[0m \u001b[38;5;28;01mtry\u001b[39;00m:\n\u001b[1;32m--> 567\u001b[0m     \u001b[38;5;28;01mreturn\u001b[39;00m future\u001b[38;5;241m.\u001b[39mresult(timeout\u001b[38;5;241m=\u001b[39mtimeout)\n\u001b[0;32m    568\u001b[0m \u001b[38;5;28;01mexcept\u001b[39;00m CfTimeoutError \u001b[38;5;28;01mas\u001b[39;00m e:\n\u001b[0;32m    569\u001b[0m     \u001b[38;5;28;01mraise\u001b[39;00m \u001b[38;5;167;01mTimeoutError\u001b[39;00m \u001b[38;5;28;01mfrom\u001b[39;00m \u001b[38;5;21;01me\u001b[39;00m\n",
      "File \u001b[1;32m~\\anaconda3\\Lib\\concurrent\\futures\\_base.py:451\u001b[0m, in \u001b[0;36mFuture.result\u001b[1;34m(self, timeout)\u001b[0m\n\u001b[0;32m    448\u001b[0m \u001b[38;5;28;01melif\u001b[39;00m \u001b[38;5;28mself\u001b[39m\u001b[38;5;241m.\u001b[39m_state \u001b[38;5;241m==\u001b[39m FINISHED:\n\u001b[0;32m    449\u001b[0m     \u001b[38;5;28;01mreturn\u001b[39;00m \u001b[38;5;28mself\u001b[39m\u001b[38;5;241m.\u001b[39m__get_result()\n\u001b[1;32m--> 451\u001b[0m \u001b[38;5;28mself\u001b[39m\u001b[38;5;241m.\u001b[39m_condition\u001b[38;5;241m.\u001b[39mwait(timeout)\n\u001b[0;32m    453\u001b[0m \u001b[38;5;28;01mif\u001b[39;00m \u001b[38;5;28mself\u001b[39m\u001b[38;5;241m.\u001b[39m_state \u001b[38;5;129;01min\u001b[39;00m [CANCELLED, CANCELLED_AND_NOTIFIED]:\n\u001b[0;32m    454\u001b[0m     \u001b[38;5;28;01mraise\u001b[39;00m CancelledError()\n",
      "File \u001b[1;32m~\\anaconda3\\Lib\\threading.py:320\u001b[0m, in \u001b[0;36mCondition.wait\u001b[1;34m(self, timeout)\u001b[0m\n\u001b[0;32m    318\u001b[0m \u001b[38;5;28;01mtry\u001b[39;00m:    \u001b[38;5;66;03m# restore state no matter what (e.g., KeyboardInterrupt)\u001b[39;00m\n\u001b[0;32m    319\u001b[0m     \u001b[38;5;28;01mif\u001b[39;00m timeout \u001b[38;5;129;01mis\u001b[39;00m \u001b[38;5;28;01mNone\u001b[39;00m:\n\u001b[1;32m--> 320\u001b[0m         waiter\u001b[38;5;241m.\u001b[39macquire()\n\u001b[0;32m    321\u001b[0m         gotit \u001b[38;5;241m=\u001b[39m \u001b[38;5;28;01mTrue\u001b[39;00m\n\u001b[0;32m    322\u001b[0m     \u001b[38;5;28;01melse\u001b[39;00m:\n",
      "\u001b[1;31mKeyboardInterrupt\u001b[0m: "
     ]
    }
   ],
   "source": [
    "clf.fit(new_data_scaled,y_train)"
   ]
  },
  {
   "cell_type": "code",
   "execution_count": null,
   "id": "57fd9564",
   "metadata": {},
   "outputs": [],
   "source": [
    "unsampled  =resample(new_data[new_data['churn_probability']==1],\n",
    "        replace=True,\n",
    "        n_samples=int(new_data[new_data['churn_probability']==0].shape[0]/10),random_state=42)\n"
   ]
  },
  {
   "cell_type": "code",
   "execution_count": null,
   "id": "0609fbd1",
   "metadata": {},
   "outputs": [],
   "source": [
    "new_unsampled = pd.concat((new_data[new_data['churn_probability']==0],unsampled),axis=0)"
   ]
  },
  {
   "cell_type": "code",
   "execution_count": 51,
   "id": "e9ed40b3",
   "metadata": {},
   "outputs": [],
   "source": [
    "X= new_unsampled.drop(columns='churn_probability',axis=1)\n",
    "y = new_unsampled['churn_probability']"
   ]
  },
  {
   "cell_type": "code",
   "execution_count": 52,
   "id": "4d1feb22",
   "metadata": {},
   "outputs": [
    {
     "data": {
      "text/plain": [
       "((69153, 122), (69153,))"
      ]
     },
     "execution_count": 52,
     "metadata": {},
     "output_type": "execute_result"
    }
   ],
   "source": [
    "X.shape,y.shape"
   ]
  },
  {
   "cell_type": "code",
   "execution_count": 53,
   "id": "409d3b21",
   "metadata": {},
   "outputs": [
    {
     "data": {
      "text/plain": [
       "((55322, 122), (13831, 122), (55322,), (13831,))"
      ]
     },
     "execution_count": 53,
     "metadata": {},
     "output_type": "execute_result"
    }
   ],
   "source": [
    "X_train, X_test, y_train, y_test = train_test_split(X, y, test_size=0.2)\n",
    "\n",
    "X_train.shape, X_test.shape, y_train.shape, y_test.shape"
   ]
  },
  {
   "cell_type": "code",
   "execution_count": 54,
   "id": "9a0217a7",
   "metadata": {},
   "outputs": [],
   "source": [
    "X_train_scaled = scalar.fit_transform(X_train)"
   ]
  },
  {
   "cell_type": "code",
   "execution_count": 55,
   "id": "4005ea86",
   "metadata": {},
   "outputs": [],
   "source": [
    "xgb = XGBClassifier(subsample= 0.6,\n",
    " scale_pos_weight= 1.3,\n",
    " reg_lambda= 10,\n",
    " n_estimators= 95,\n",
    " min_child_weight= 7,\n",
    " max_depth= 12,\n",
    " learning_rate=0.08,\n",
    " gamma= 3.5,\n",
    " colsample_bytree= 0.5)"
   ]
  },
  {
   "cell_type": "code",
   "execution_count": 56,
   "id": "d49d3e34",
   "metadata": {},
   "outputs": [
    {
     "data": {
      "text/html": [
       "<style>#sk-container-id-3 {color: black;}#sk-container-id-3 pre{padding: 0;}#sk-container-id-3 div.sk-toggleable {background-color: white;}#sk-container-id-3 label.sk-toggleable__label {cursor: pointer;display: block;width: 100%;margin-bottom: 0;padding: 0.3em;box-sizing: border-box;text-align: center;}#sk-container-id-3 label.sk-toggleable__label-arrow:before {content: \"▸\";float: left;margin-right: 0.25em;color: #696969;}#sk-container-id-3 label.sk-toggleable__label-arrow:hover:before {color: black;}#sk-container-id-3 div.sk-estimator:hover label.sk-toggleable__label-arrow:before {color: black;}#sk-container-id-3 div.sk-toggleable__content {max-height: 0;max-width: 0;overflow: hidden;text-align: left;background-color: #f0f8ff;}#sk-container-id-3 div.sk-toggleable__content pre {margin: 0.2em;color: black;border-radius: 0.25em;background-color: #f0f8ff;}#sk-container-id-3 input.sk-toggleable__control:checked~div.sk-toggleable__content {max-height: 200px;max-width: 100%;overflow: auto;}#sk-container-id-3 input.sk-toggleable__control:checked~label.sk-toggleable__label-arrow:before {content: \"▾\";}#sk-container-id-3 div.sk-estimator input.sk-toggleable__control:checked~label.sk-toggleable__label {background-color: #d4ebff;}#sk-container-id-3 div.sk-label input.sk-toggleable__control:checked~label.sk-toggleable__label {background-color: #d4ebff;}#sk-container-id-3 input.sk-hidden--visually {border: 0;clip: rect(1px 1px 1px 1px);clip: rect(1px, 1px, 1px, 1px);height: 1px;margin: -1px;overflow: hidden;padding: 0;position: absolute;width: 1px;}#sk-container-id-3 div.sk-estimator {font-family: monospace;background-color: #f0f8ff;border: 1px dotted black;border-radius: 0.25em;box-sizing: border-box;margin-bottom: 0.5em;}#sk-container-id-3 div.sk-estimator:hover {background-color: #d4ebff;}#sk-container-id-3 div.sk-parallel-item::after {content: \"\";width: 100%;border-bottom: 1px solid gray;flex-grow: 1;}#sk-container-id-3 div.sk-label:hover label.sk-toggleable__label {background-color: #d4ebff;}#sk-container-id-3 div.sk-serial::before {content: \"\";position: absolute;border-left: 1px solid gray;box-sizing: border-box;top: 0;bottom: 0;left: 50%;z-index: 0;}#sk-container-id-3 div.sk-serial {display: flex;flex-direction: column;align-items: center;background-color: white;padding-right: 0.2em;padding-left: 0.2em;position: relative;}#sk-container-id-3 div.sk-item {position: relative;z-index: 1;}#sk-container-id-3 div.sk-parallel {display: flex;align-items: stretch;justify-content: center;background-color: white;position: relative;}#sk-container-id-3 div.sk-item::before, #sk-container-id-3 div.sk-parallel-item::before {content: \"\";position: absolute;border-left: 1px solid gray;box-sizing: border-box;top: 0;bottom: 0;left: 50%;z-index: -1;}#sk-container-id-3 div.sk-parallel-item {display: flex;flex-direction: column;z-index: 1;position: relative;background-color: white;}#sk-container-id-3 div.sk-parallel-item:first-child::after {align-self: flex-end;width: 50%;}#sk-container-id-3 div.sk-parallel-item:last-child::after {align-self: flex-start;width: 50%;}#sk-container-id-3 div.sk-parallel-item:only-child::after {width: 0;}#sk-container-id-3 div.sk-dashed-wrapped {border: 1px dashed gray;margin: 0 0.4em 0.5em 0.4em;box-sizing: border-box;padding-bottom: 0.4em;background-color: white;}#sk-container-id-3 div.sk-label label {font-family: monospace;font-weight: bold;display: inline-block;line-height: 1.2em;}#sk-container-id-3 div.sk-label-container {text-align: center;}#sk-container-id-3 div.sk-container {/* jupyter's `normalize.less` sets `[hidden] { display: none; }` but bootstrap.min.css set `[hidden] { display: none !important; }` so we also need the `!important` here to be able to override the default hidden behavior on the sphinx rendered scikit-learn.org. See: https://github.com/scikit-learn/scikit-learn/issues/21755 */display: inline-block !important;position: relative;}#sk-container-id-3 div.sk-text-repr-fallback {display: none;}</style><div id=\"sk-container-id-3\" class=\"sk-top-container\"><div class=\"sk-text-repr-fallback\"><pre>XGBClassifier(base_score=None, booster=None, callbacks=None,\n",
       "              colsample_bylevel=None, colsample_bynode=None,\n",
       "              colsample_bytree=0.5, device=None, early_stopping_rounds=None,\n",
       "              enable_categorical=False, eval_metric=None, feature_types=None,\n",
       "              gamma=3.5, grow_policy=None, importance_type=None,\n",
       "              interaction_constraints=None, learning_rate=0.08, max_bin=None,\n",
       "              max_cat_threshold=None, max_cat_to_onehot=None,\n",
       "              max_delta_step=None, max_depth=12, max_leaves=None,\n",
       "              min_child_weight=7, missing=nan, monotone_constraints=None,\n",
       "              multi_strategy=None, n_estimators=95, n_jobs=None,\n",
       "              num_parallel_tree=None, random_state=None, ...)</pre><b>In a Jupyter environment, please rerun this cell to show the HTML representation or trust the notebook. <br />On GitHub, the HTML representation is unable to render, please try loading this page with nbviewer.org.</b></div><div class=\"sk-container\" hidden><div class=\"sk-item\"><div class=\"sk-estimator sk-toggleable\"><input class=\"sk-toggleable__control sk-hidden--visually\" id=\"sk-estimator-id-5\" type=\"checkbox\" checked><label for=\"sk-estimator-id-5\" class=\"sk-toggleable__label sk-toggleable__label-arrow\">XGBClassifier</label><div class=\"sk-toggleable__content\"><pre>XGBClassifier(base_score=None, booster=None, callbacks=None,\n",
       "              colsample_bylevel=None, colsample_bynode=None,\n",
       "              colsample_bytree=0.5, device=None, early_stopping_rounds=None,\n",
       "              enable_categorical=False, eval_metric=None, feature_types=None,\n",
       "              gamma=3.5, grow_policy=None, importance_type=None,\n",
       "              interaction_constraints=None, learning_rate=0.08, max_bin=None,\n",
       "              max_cat_threshold=None, max_cat_to_onehot=None,\n",
       "              max_delta_step=None, max_depth=12, max_leaves=None,\n",
       "              min_child_weight=7, missing=nan, monotone_constraints=None,\n",
       "              multi_strategy=None, n_estimators=95, n_jobs=None,\n",
       "              num_parallel_tree=None, random_state=None, ...)</pre></div></div></div></div></div>"
      ],
      "text/plain": [
       "XGBClassifier(base_score=None, booster=None, callbacks=None,\n",
       "              colsample_bylevel=None, colsample_bynode=None,\n",
       "              colsample_bytree=0.5, device=None, early_stopping_rounds=None,\n",
       "              enable_categorical=False, eval_metric=None, feature_types=None,\n",
       "              gamma=3.5, grow_policy=None, importance_type=None,\n",
       "              interaction_constraints=None, learning_rate=0.08, max_bin=None,\n",
       "              max_cat_threshold=None, max_cat_to_onehot=None,\n",
       "              max_delta_step=None, max_depth=12, max_leaves=None,\n",
       "              min_child_weight=7, missing=nan, monotone_constraints=None,\n",
       "              multi_strategy=None, n_estimators=95, n_jobs=None,\n",
       "              num_parallel_tree=None, random_state=None, ...)"
      ]
     },
     "execution_count": 56,
     "metadata": {},
     "output_type": "execute_result"
    }
   ],
   "source": [
    "xgb.fit(X_train_scaled,y_train)"
   ]
  },
  {
   "cell_type": "code",
   "execution_count": 57,
   "id": "69be8466",
   "metadata": {},
   "outputs": [
    {
     "data": {
      "text/html": [
       "<div>\n",
       "<style scoped>\n",
       "    .dataframe tbody tr th:only-of-type {\n",
       "        vertical-align: middle;\n",
       "    }\n",
       "\n",
       "    .dataframe tbody tr th {\n",
       "        vertical-align: top;\n",
       "    }\n",
       "\n",
       "    .dataframe thead th {\n",
       "        text-align: right;\n",
       "    }\n",
       "</style>\n",
       "<table border=\"1\" class=\"dataframe\">\n",
       "  <thead>\n",
       "    <tr style=\"text-align: right;\">\n",
       "      <th></th>\n",
       "      <th>thresholds</th>\n",
       "      <th>accuracy_scores</th>\n",
       "      <th>f1_scores</th>\n",
       "      <th>roc_auc_scores</th>\n",
       "      <th>precision_scores</th>\n",
       "      <th>recall_scores</th>\n",
       "    </tr>\n",
       "  </thead>\n",
       "  <tbody>\n",
       "    <tr>\n",
       "      <th>0</th>\n",
       "      <td>0.0</td>\n",
       "      <td>0.091172</td>\n",
       "      <td>0.167108</td>\n",
       "      <td>0.500000</td>\n",
       "      <td>0.091172</td>\n",
       "      <td>1.000000</td>\n",
       "    </tr>\n",
       "    <tr>\n",
       "      <th>1</th>\n",
       "      <td>0.1</td>\n",
       "      <td>0.906225</td>\n",
       "      <td>0.635776</td>\n",
       "      <td>0.902390</td>\n",
       "      <td>0.492174</td>\n",
       "      <td>0.897700</td>\n",
       "    </tr>\n",
       "    <tr>\n",
       "      <th>2</th>\n",
       "      <td>0.2</td>\n",
       "      <td>0.938905</td>\n",
       "      <td>0.715201</td>\n",
       "      <td>0.895042</td>\n",
       "      <td>0.621923</td>\n",
       "      <td>0.841396</td>\n",
       "    </tr>\n",
       "    <tr>\n",
       "      <th>3</th>\n",
       "      <td>0.3</td>\n",
       "      <td>0.947292</td>\n",
       "      <td>0.730499</td>\n",
       "      <td>0.873614</td>\n",
       "      <td>0.684211</td>\n",
       "      <td>0.783505</td>\n",
       "    </tr>\n",
       "    <tr>\n",
       "      <th>4</th>\n",
       "      <td>0.4</td>\n",
       "      <td>0.950401</td>\n",
       "      <td>0.730134</td>\n",
       "      <td>0.853921</td>\n",
       "      <td>0.724434</td>\n",
       "      <td>0.735924</td>\n",
       "    </tr>\n",
       "    <tr>\n",
       "      <th>5</th>\n",
       "      <td>0.5</td>\n",
       "      <td>0.953366</td>\n",
       "      <td>0.730689</td>\n",
       "      <td>0.836645</td>\n",
       "      <td>0.771605</td>\n",
       "      <td>0.693894</td>\n",
       "    </tr>\n",
       "    <tr>\n",
       "      <th>6</th>\n",
       "      <td>0.6</td>\n",
       "      <td>0.951775</td>\n",
       "      <td>0.700225</td>\n",
       "      <td>0.801523</td>\n",
       "      <td>0.808091</td>\n",
       "      <td>0.617764</td>\n",
       "    </tr>\n",
       "    <tr>\n",
       "      <th>7</th>\n",
       "      <td>0.7</td>\n",
       "      <td>0.947509</td>\n",
       "      <td>0.643418</td>\n",
       "      <td>0.754941</td>\n",
       "      <td>0.845161</td>\n",
       "      <td>0.519429</td>\n",
       "    </tr>\n",
       "    <tr>\n",
       "      <th>8</th>\n",
       "      <td>0.8</td>\n",
       "      <td>0.938688</td>\n",
       "      <td>0.530454</td>\n",
       "      <td>0.687303</td>\n",
       "      <td>0.878899</td>\n",
       "      <td>0.379857</td>\n",
       "    </tr>\n",
       "    <tr>\n",
       "      <th>9</th>\n",
       "      <td>0.9</td>\n",
       "      <td>0.922782</td>\n",
       "      <td>0.280323</td>\n",
       "      <td>0.581878</td>\n",
       "      <td>0.932735</td>\n",
       "      <td>0.164948</td>\n",
       "    </tr>\n",
       "  </tbody>\n",
       "</table>\n",
       "</div>"
      ],
      "text/plain": [
       "   thresholds  accuracy_scores  f1_scores  roc_auc_scores  precision_scores  \\\n",
       "0         0.0         0.091172   0.167108        0.500000          0.091172   \n",
       "1         0.1         0.906225   0.635776        0.902390          0.492174   \n",
       "2         0.2         0.938905   0.715201        0.895042          0.621923   \n",
       "3         0.3         0.947292   0.730499        0.873614          0.684211   \n",
       "4         0.4         0.950401   0.730134        0.853921          0.724434   \n",
       "5         0.5         0.953366   0.730689        0.836645          0.771605   \n",
       "6         0.6         0.951775   0.700225        0.801523          0.808091   \n",
       "7         0.7         0.947509   0.643418        0.754941          0.845161   \n",
       "8         0.8         0.938688   0.530454        0.687303          0.878899   \n",
       "9         0.9         0.922782   0.280323        0.581878          0.932735   \n",
       "\n",
       "   recall_scores  \n",
       "0       1.000000  \n",
       "1       0.897700  \n",
       "2       0.841396  \n",
       "3       0.783505  \n",
       "4       0.735924  \n",
       "5       0.693894  \n",
       "6       0.617764  \n",
       "7       0.519429  \n",
       "8       0.379857  \n",
       "9       0.164948  "
      ]
     },
     "execution_count": 57,
     "metadata": {},
     "output_type": "execute_result"
    }
   ],
   "source": [
    "checkThreshold(xgb)"
   ]
  },
  {
   "cell_type": "code",
   "execution_count": null,
   "id": "434da40c",
   "metadata": {},
   "outputs": [],
   "source": [
    "gb = GradientBoostingClassifier(random_state=100)"
   ]
  },
  {
   "cell_type": "code",
   "execution_count": null,
   "id": "e1d4e6a5",
   "metadata": {},
   "outputs": [],
   "source": [
    "params = {\n",
    "    'n_estimators' : [30, 40, 50],\n",
    "    'max_features' : [11, 12, 13, 14],\n",
    "    'max_depth' : [ 7, 8, 9, 10],\n",
    "    'min_samples_leaf' : [10, 15, 20, 25],\n",
    "}"
   ]
  },
  {
   "cell_type": "code",
   "execution_count": null,
   "id": "4f308a94",
   "metadata": {},
   "outputs": [],
   "source": [
    "\n",
    "grid = GridSearchCV(estimator=gb, \n",
    "                   param_grid=params,\n",
    "                   cv=4, n_jobs=-1, verbose=1, scoring='roc_auc')"
   ]
  },
  {
   "cell_type": "code",
   "execution_count": null,
   "id": "3d99fe8c",
   "metadata": {},
   "outputs": [],
   "source": [
    "\n",
    "grid.fit(new_data_scaled, y_train)"
   ]
  },
  {
   "cell_type": "code",
   "execution_count": null,
   "id": "206f6768",
   "metadata": {},
   "outputs": [],
   "source": [
    "grid.best_params_"
   ]
  },
  {
   "cell_type": "code",
   "execution_count": null,
   "id": "7ec5abb0",
   "metadata": {},
   "outputs": [],
   "source": [
    "checkThreshold(grid.best_estimator_)"
   ]
  },
  {
   "cell_type": "code",
   "execution_count": null,
   "id": "ac463043",
   "metadata": {},
   "outputs": [],
   "source": []
  }
 ],
 "metadata": {
  "kernelspec": {
   "display_name": "Python 3 (ipykernel)",
   "language": "python",
   "name": "python3"
  },
  "language_info": {
   "codemirror_mode": {
    "name": "ipython",
    "version": 3
   },
   "file_extension": ".py",
   "mimetype": "text/x-python",
   "name": "python",
   "nbconvert_exporter": "python",
   "pygments_lexer": "ipython3",
   "version": "3.11.5"
  }
 },
 "nbformat": 4,
 "nbformat_minor": 5
}
